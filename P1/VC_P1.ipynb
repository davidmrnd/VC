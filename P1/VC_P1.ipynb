{
 "cells": [
  {
   "cell_type": "markdown",
   "metadata": {},
   "source": [
    "Paquetes necesarios"
   ]
  },
  {
   "cell_type": "code",
   "execution_count": 81,
   "metadata": {},
   "outputs": [],
   "source": [
    "import cv2  \n",
    "import numpy as np\n",
    "import matplotlib.pyplot as plt"
   ]
  },
  {
   "cell_type": "markdown",
   "metadata": {},
   "source": [
    "Inicializaciones"
   ]
  },
  {
   "cell_type": "code",
   "execution_count": 82,
   "metadata": {},
   "outputs": [],
   "source": [
    "#Dimensiones de la imagen a crear\n",
    "ancho = 800\n",
    "alto = 800"
   ]
  },
  {
   "cell_type": "markdown",
   "metadata": {},
   "source": [
    "TAREA: Crea una imagen, p.e. de 800x800 píxeles, con la textura del tablero de ajedrez"
   ]
  },
  {
   "cell_type": "code",
   "execution_count": 83,
   "metadata": {},
   "outputs": [
    {
     "data": {
      "image/png": "[encoded data removed]",
      "text/plain": [
       "<Figure size 640x480 with 1 Axes>"
      ]
     },
     "metadata": {},
     "output_type": "display_data"
    }
   ],
   "source": [
    "# Creamos una imagen en escala de grises de tamaño 800x800 píxeles, inicializada a ceros (negro)\n",
    "gris_img = np.zeros((alto,ancho,1), dtype = np.uint8)\n",
    "\n",
    "# Recorremos la imagen en bloques de 100x100 píxeles para crear el patrón de tablero de ajedrez\n",
    "for i in range(0,800,100):\n",
    "    for j in range(0,800,100):\n",
    "        # Si la suma de los índices de bloque es par, pintamos el bloque de blanco\n",
    "        if ((i + j) // 100) % 2 == 0:\n",
    "            gris_img[i:i+100, j:j+100] = 255\n",
    "\n",
    "plt.imshow(gris_img, cmap='gray')\n",
    "plt.show()"
   ]
  },
  {
   "cell_type": "markdown",
   "metadata": {},
   "source": [
    "TAREA: Crear una imagen estilo Mondrian (un ejemplo https://www3.gobiernodecanarias.org/medusa/ecoescuela/sa/2017/04/17/descubriendo-a-mondrian/ ) con las funciones de dibujo de OpenCV"
   ]
  },
  {
   "cell_type": "code",
   "execution_count": 84,
   "metadata": {},
   "outputs": [
    {
     "data": {
      "image/png": "[encoded data removed]",
      "text/plain": [
       "<Figure size 640x480 with 1 Axes>"
      ]
     },
     "metadata": {},
     "output_type": "display_data"
    }
   ],
   "source": [
    "#Crea una imagen con tres planos\n",
    "color_img = np.zeros((alto,ancho,3), dtype = np.uint8)\n",
    "\n",
    "# Dibuja los rectángulos de colores principales estilo Mondrian\n",
    "cv2.rectangle(color_img, (0, 0), (200, 200), (0, 255, 255), -1)      \n",
    "cv2.rectangle(color_img, (200, 0), (500, 200), (255, 0, 0), -1)      \n",
    "cv2.rectangle(color_img, (500, 0), (800, 200), (0, 0, 255), -1)      \n",
    "cv2.rectangle(color_img, (0, 200), (200, 500), (255, 255, 255), -1)  \n",
    "cv2.rectangle(color_img, (200, 200), (500, 500), (255, 255, 255), -1)\n",
    "cv2.rectangle(color_img, (500, 200), (650, 500), (255, 0, 0), -1)    \n",
    "cv2.rectangle(color_img, (650, 200), (800, 500), (0, 0, 255), -1)    \n",
    "cv2.rectangle(color_img, (0, 500), (200, 650), (255, 255, 255), -1)  \n",
    "cv2.rectangle(color_img, (200, 500), (650, 650), (0, 0, 255), -1)    \n",
    "cv2.rectangle(color_img, (650, 500), (800, 650), (255, 255, 0), -1)  \n",
    "cv2.rectangle(color_img, (0, 650), (200, 800), (255, 0, 0), -1)      \n",
    "cv2.rectangle(color_img, (200, 650), (650, 800), (255, 255, 0), -1)  \n",
    "cv2.rectangle(color_img, (650, 650), (800, 800), (255, 255, 255), -1)\n",
    "\n",
    "# Dibuja líneas negras gruesas para simular el estilo Mondrian\n",
    "thickness = 15\n",
    "for x in [0, 200, 500, 650, 800]:\n",
    "    cv2.line(color_img, (x, 0), (x, 800), (0, 0, 0), thickness)\n",
    "for y in [0, 200, 500, 650, 800]:\n",
    "    cv2.line(color_img, (0, y), (800, y), (0, 0, 0), thickness)\n",
    "\n",
    "plt.imshow(color_img) \n",
    "plt.show()"
   ]
  },
  {
   "cell_type": "markdown",
   "metadata": {},
   "source": [
    "TAREA: Modifica de forma libre los valores de un plano de la imagen"
   ]
  },
  {
   "cell_type": "code",
   "execution_count": null,
   "metadata": {},
   "outputs": [],
   "source": [
    "vid = cv2.VideoCapture(0)\n",
    "\n",
    "while True:\n",
    "    ret, frame = vid.read()\n",
    "    if ret:\n",
    "        # Separamos los tres canales de color (BGR)\n",
    "        b = frame[:,:,0]\n",
    "        g = frame[:,:,1]\n",
    "        r = frame[:,:,2]\n",
    "       \n",
    "        # Aumentamos la intensidad del canal rojo en toda la imagen\n",
    "        r[:,:] += 140\n",
    "\n",
    "        # Volvemos a combinar los canales para formar la imagen modificada\n",
    "        frame_mod = cv2.merge((b, g, r))\n",
    "        \n",
    "        cv2.imshow('Rojo intenso', frame_mod)\n",
    "\n",
    "    if cv2.waitKey(20) == 27:\n",
    "        break\n",
    "\n",
    "vid.release()\n",
    "cv2.destroyAllWindows()"
   ]
  },
  {
   "cell_type": "markdown",
   "metadata": {},
   "source": [
    "TAREA:\n",
    "Pintar círculos en las posiciones del píxel más claro y oscuro de la imagen \n",
    "¿Si quisieras hacerlo sobre la zona 8x8 más clara/oscura?"
   ]
  },
  {
   "cell_type": "code",
   "execution_count": null,
   "metadata": {},
   "outputs": [],
   "source": [
    "vid = cv2.VideoCapture(0)\n",
    "\n",
    "while True:\n",
    "    ret, frame = vid.read()\n",
    "    if ret:\n",
    "        # Convertimos el frame a escala de grises para facilitar el análisis de intensidad\n",
    "        gray = cv2.cvtColor(frame, cv2.COLOR_BGR2GRAY)\n",
    "\n",
    "        # Buscamos el píxel más oscuro y el más claro en la imagen\n",
    "        min_val, max_val, min_loc, max_loc = cv2.minMaxLoc(gray)\n",
    "\n",
    "        # Dibujamos un círculo azul en la posición del píxel más oscuro\n",
    "        cv2.circle(frame, min_loc, 15, (255,0,0), 2)\n",
    "        # Dibujamos un círculo rojo en la posición del píxel más claro\n",
    "        cv2.circle(frame, max_loc, 15, (0,0,255), 2)\n",
    "\n",
    "        cv2.imshow('Circulos en pixel mas claro y oscuro', frame)\n",
    "\n",
    "    if cv2.waitKey(20) == 27:\n",
    "        break\n",
    "\n",
    "vid.release()\n",
    "cv2.destroyAllWindows()"
   ]
  },
  {
   "cell_type": "code",
   "execution_count": null,
   "metadata": {},
   "outputs": [],
   "source": [
    "vid = cv2.VideoCapture(0)\n",
    "block = 8\n",
    "\n",
    "while True:\n",
    "    ret, frame = vid.read()\n",
    "    if ret:\n",
    "        # Convertimos el frame a escala de grises para analizar la intensidad\n",
    "        gray = cv2.cvtColor(frame, cv2.COLOR_BGR2GRAY)\n",
    "        h, w = gray.shape\n",
    "\n",
    "        # Ajustamos las dimensiones para que sean múltiplos del tamaño de bloque\n",
    "        h2, w2 = h - h % block, w - w % block\n",
    "        gray_cropped = gray[:h2, :w2]\n",
    "\n",
    "        # Dividimos la imagen en bloques de 8x8 y sumamos la intensidad de cada bloque\n",
    "        blocks = gray_cropped.reshape(h2 // block, block, w2 // block, block).sum(axis=(1, 3))\n",
    "\n",
    "        # Buscamos el índice del bloque más oscuro y más claro\n",
    "        min_idx = np.unravel_index(np.argmin(blocks), blocks.shape)\n",
    "        max_idx = np.unravel_index(np.argmax(blocks), blocks.shape)\n",
    "\n",
    "        # Calculamos la posición central de cada bloque para dibujar los círculos\n",
    "        min_pos = (min_idx[1]*block + block//2, min_idx[0]*block + block//2)\n",
    "        max_pos = (max_idx[1]*block + block//2, max_idx[0]*block + block//2)\n",
    "\n",
    "        # Dibujamos un círculo azul en el bloque más oscuro y uno rojo en el más claro\n",
    "        cv2.circle(frame, min_pos, 15, (255,0,0), 2)\n",
    "        cv2.circle(frame, max_pos, 15, (0,0,255), 2)\n",
    "        cv2.imshow('Círculos en bloque 8x8 más claro y oscuro', frame)\n",
    "        \n",
    "    if cv2.waitKey(20) == 27:\n",
    "        break\n",
    "\n",
    "vid.release()\n",
    "cv2.destroyAllWindows()"
   ]
  },
  {
   "cell_type": "markdown",
   "metadata": {},
   "source": [
    "TAREA: Llevar a cabo una propuesta propia de pop art"
   ]
  },
  {
   "cell_type": "code",
   "execution_count": null,
   "metadata": {},
   "outputs": [],
   "source": [
    "vid = cv2.VideoCapture(0)\n",
    "\n",
    "pop_colors = [\n",
    "    (255, 0, 0),\n",
    "    (0, 255, 0),\n",
    "    (0, 0, 255),\n",
    "    (255, 255, 0),\n",
    "    (255, 0, 255),\n",
    "    (0, 255, 255),\n",
    "    (255, 128, 0),\n",
    "    (128, 0, 255)\n",
    "]\n",
    "\n",
    "block_size = 5\n",
    "\n",
    "while True:\n",
    "    ret, frame = vid.read()\n",
    "    if ret:\n",
    "        # Obtenemos las dimensiones y recortamos la imagen para que sean múltiplos del tamaño de bloque\n",
    "        h, w, _ = frame.shape\n",
    "        h2, w2 = h - h % block_size, w - w % block_size\n",
    "        frame_cropped = frame[:h2, :w2]\n",
    "\n",
    "        # Creamos una imagen vacía para el resultado pop art\n",
    "        pop_frame = np.zeros_like(frame_cropped)\n",
    "\n",
    "        # Convertimos el frame a escala de grises para analizar la intensidad\n",
    "        gray = cv2.cvtColor(frame_cropped, cv2.COLOR_BGR2GRAY)\n",
    "\n",
    "        # Recorremos la imagen por bloques\n",
    "        for i in range(0, h2, block_size):\n",
    "            for j in range(0, w2, block_size):\n",
    "                block = gray[i:i+block_size, j:j+block_size]\n",
    "                mean_intensity = np.mean(block)\n",
    "                # Seleccionamos el color de la paleta según la intensidad media del bloque\n",
    "                color_idx = int((mean_intensity / 255) * (len(pop_colors)-1))\n",
    "                color = pop_colors[color_idx]\n",
    "                # Pintamos el bloque con el color seleccionado\n",
    "                pop_frame[i:i+block_size, j:j+block_size] = color\n",
    "\n",
    "        cv2.imshow('Pop Art Mosaico', pop_frame)\n",
    "\n",
    "    if cv2.waitKey(20) == 27:\n",
    "        break\n",
    "\n",
    "vid.release()\n",
    "cv2.destroyAllWindows()"
   ]
  }
 ],
 "metadata": {
  "kernelspec": {
   "display_name": "VC_P1",
   "language": "python",
   "name": "python3"
  },
  "language_info": {
   "codemirror_mode": {
    "name": "ipython",
    "version": 3
   },
   "file_extension": ".py",
   "mimetype": "text/x-python",
   "name": "python",
   "nbconvert_exporter": "python",
   "pygments_lexer": "ipython3",
   "version": "3.13.7"
  },
  "orig_nbformat": 4
 },
 "nbformat": 4,
 "nbformat_minor": 2
}
